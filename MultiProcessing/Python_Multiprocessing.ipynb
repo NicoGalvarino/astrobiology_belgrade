{
  "nbformat": 4,
  "nbformat_minor": 0,
  "metadata": {
    "colab": {
      "provenance": [],
      "toc_visible": true
    },
    "kernelspec": {
      "name": "python3",
      "display_name": "Python 3"
    },
    "accelerator": "GPU"
  },
  "cells": [
    {
      "cell_type": "code",
      "metadata": {
        "id": "v18n0F4awZIc",
        "colab": {
          "base_uri": "https://localhost:8080/",
          "height": 207
        },
        "outputId": "46b0ed38-0702-431b-cf62-89c320c2d7e6"
      },
      "source": [
        "!pip install pathos #Multi processing\n",
        "!pip install tqdm #Progress bar\n",
        "!pip install TextBlob #Sentiment analysis\n",
        "\n",
        "from pathos.multiprocessing import ProcessPool\n",
        "from textblob import TextBlob\n",
        "from tqdm import tqdm "
      ],
      "execution_count": null,
      "outputs": [
        {
          "output_type": "stream",
          "text": [
            "Requirement already satisfied: pathos in /usr/local/lib/python3.6/dist-packages (0.2.5)\n",
            "Requirement already satisfied: pox>=0.2.7 in /usr/local/lib/python3.6/dist-packages (from pathos) (0.2.7)\n",
            "Requirement already satisfied: dill>=0.3.1 in /usr/local/lib/python3.6/dist-packages (from pathos) (0.3.1.1)\n",
            "Requirement already satisfied: ppft>=1.6.6.1 in /usr/local/lib/python3.6/dist-packages (from pathos) (1.6.6.1)\n",
            "Requirement already satisfied: multiprocess>=0.70.9 in /usr/local/lib/python3.6/dist-packages (from pathos) (0.70.9)\n",
            "Requirement already satisfied: six>=1.7.3 in /usr/local/lib/python3.6/dist-packages (from ppft>=1.6.6.1->pathos) (1.12.0)\n",
            "Requirement already satisfied: tqdm in /usr/local/lib/python3.6/dist-packages (4.28.1)\n",
            "Requirement already satisfied: TextBlob in /usr/local/lib/python3.6/dist-packages (0.15.3)\n",
            "Requirement already satisfied: nltk>=3.1 in /usr/local/lib/python3.6/dist-packages (from TextBlob) (3.2.5)\n",
            "Requirement already satisfied: six in /usr/local/lib/python3.6/dist-packages (from nltk>=3.1->TextBlob) (1.12.0)\n"
          ],
          "name": "stdout"
        }
      ]
    },
    {
      "cell_type": "markdown",
      "metadata": {
        "id": "_l1wxwn10Pr1"
      },
      "source": [
        "#Create a process pool\n",
        "\n",
        "Pools are a group of poccesses where you will send tasks. Inside you will define the number of processes to create. By defualt it will be number of CPU cores, however you **can** define more than that. \n",
        "\n",
        "Scheduling more processes than you have CPU cores can increase performance where the processes run into wait times or I/O"
      ]
    },
    {
      "cell_type": "code",
      "metadata": {
        "id": "hIgmDOjPxdJ8"
      },
      "source": [
        "pool = ProcessPool(nodes=3)"
      ],
      "execution_count": null,
      "outputs": []
    },
    {
      "cell_type": "markdown",
      "metadata": {
        "id": "OsQo-nam05hw"
      },
      "source": [
        "#Functions\n",
        "\n",
        "Map methods provided:\n",
        "\n",
        "\n",
        "    map         - blocking and ordered worker pool        [returns: list]\n",
        "    imap        - non-blocking and ordered worker pool    [returns: iterator]\n",
        "    uimap       - non-blocking and unordered worker pool  [returns: iterator]\n",
        "    amap        - asynchronous worker pool                [returns: object]\n",
        "\n",
        "Blocking: handles jobs in batches rather than 1 by 1\n",
        "\n",
        "Ordered: Batches must be completed in order"
      ]
    },
    {
      "cell_type": "code",
      "metadata": {
        "id": "sm3mZtOL0DL4",
        "colab": {
          "base_uri": "https://localhost:8080/",
          "height": 34
        },
        "outputId": "0c366431-7a5c-4742-df53-773c748446c8"
      },
      "source": [
        "#pool.map(function to run, data to run it on, other arguments )\n",
        "\n",
        "pool.map(pow, [1,2,3,4], [5,6,7,8])"
      ],
      "execution_count": null,
      "outputs": [
        {
          "output_type": "execute_result",
          "data": {
            "text/plain": [
              "[1, 64, 2187, 65536]"
            ]
          },
          "metadata": {
            "tags": []
          },
          "execution_count": 3
        }
      ]
    },
    {
      "cell_type": "code",
      "metadata": {
        "id": "hjNaN7_m3T6L",
        "colab": {
          "base_uri": "https://localhost:8080/",
          "height": 85
        },
        "outputId": "a584484e-bbde-4ef3-c05d-45561ac6bbd1"
      },
      "source": [
        "#Iterate through the returned data using imap\n",
        "for x in pool.imap(pow, [1,2,3,4], [5,6,7,8]):\n",
        "  print(x)"
      ],
      "execution_count": null,
      "outputs": [
        {
          "output_type": "stream",
          "text": [
            "1\n",
            "64\n",
            "2187\n",
            "65536\n"
          ],
          "name": "stdout"
        }
      ]
    },
    {
      "cell_type": "code",
      "metadata": {
        "id": "JMOQpbdc3hbW",
        "colab": {
          "base_uri": "https://localhost:8080/",
          "height": 34
        },
        "outputId": "244fc80a-065e-4ee1-9dae-dbfdc65aab21"
      },
      "source": [
        "# do an asynchronous map, then get the results\n",
        "import time\n",
        "\n",
        "results = pool.amap(pow, [1,2,3,4], [5,6,7,8])\n",
        "while not results.ready():\n",
        "  time.sleep(5); print(\".\", end=' ')"
      ],
      "execution_count": null,
      "outputs": [
        {
          "output_type": "stream",
          "text": [
            ". "
          ],
          "name": "stdout"
        }
      ]
    },
    {
      "cell_type": "markdown",
      "metadata": {
        "id": "8dhDD4OP6IOm"
      },
      "source": [
        "#Build your function\n",
        "First lets build a function that can take a line of text and produce the sentiment"
      ]
    },
    {
      "cell_type": "code",
      "metadata": {
        "id": "adnqGeUoNL-Q"
      },
      "source": [
        "  def get_sentiment(text):\n",
        "      from textblob import TextBlob\n",
        "      blob = TextBlob(text)\n",
        "      score = blob.sentiment.polarity\n",
        "      return score"
      ],
      "execution_count": null,
      "outputs": []
    },
    {
      "cell_type": "markdown",
      "metadata": {
        "id": "vWVp5gY9N_Nk"
      },
      "source": [
        "Then we will need a function that will download the poems for us"
      ]
    },
    {
      "cell_type": "code",
      "metadata": {
        "id": "Bk0GY2A5NTHo"
      },
      "source": [
        "import urllib.request\n",
        "\n",
        "def download_poem(url):\n",
        "  poems = []\n",
        "  with urllib.request.urlopen(url) as f: \n",
        "        for line in f:\n",
        "            line = line.decode(\"utf-8\") \n",
        "            line = line.strip()\n",
        "            if line:\n",
        "                poems.append(line)\n",
        "  return poem"
      ],
      "execution_count": null,
      "outputs": []
    },
    {
      "cell_type": "markdown",
      "metadata": {
        "id": "8oJXMDd2Jjp0"
      },
      "source": [
        "Let's check out what one of these poems look like"
      ]
    },
    {
      "cell_type": "code",
      "metadata": {
        "id": "6NTRf4SzJmRY",
        "colab": {
          "base_uri": "https://localhost:8080/",
          "height": 71
        },
        "outputId": "0b8de385-ac25-46b9-b020-f48e9da7278e"
      },
      "source": [
        "test_url = 'https://raw.githubusercontent.com/okfn/openmilton/master/miltondata/texts/poems.txt'\n",
        "poem = download_poem(test_url)\n",
        "\n",
        "print(len(poem))\n",
        "print(poem[:10])"
      ],
      "execution_count": null,
      "outputs": [
        {
          "output_type": "stream",
          "text": [
            "6203\n",
            "['The Poetical Works of John Milton', 'PREFACE by the Rev. H. C. Beeching, M. A.', \"This edition of Milton's Poetry is a reprint, as careful as Editor\", 'and Printers have been able to make it, from the earliest printed', 'copies of the several poems.  First the 1645 volume of the', 'Minor Poems has been printed entire; then follow in order the', 'poems added in the reissue of 1673; the Paradise Lost, from the', \"edition of 1667; and the Paradise Regain'd and Samson\", 'Agonistes from the edition of 1671.', 'The most interesting portion of the book must be reckoned the']\n"
          ],
          "name": "stdout"
        }
      ]
    },
    {
      "cell_type": "markdown",
      "metadata": {
        "id": "Uq_aRF6IOF4o"
      },
      "source": [
        "Finally we will build out main function that puts the whole process together"
      ]
    },
    {
      "cell_type": "code",
      "metadata": {
        "id": "PVy1hTMq5IXF"
      },
      "source": [
        "def process_poems(url):\n",
        "    scores = []\n",
        "    poem = download_poem(url)\n",
        "    \n",
        "    for line in poem:\n",
        "        scores.append(get_sentiment(line))\n",
        "    return scores"
      ],
      "execution_count": null,
      "outputs": []
    },
    {
      "cell_type": "markdown",
      "metadata": {
        "id": "_EE78VNqKY14"
      },
      "source": [
        "Let's build a hard task, like having to download and process multiple poems"
      ]
    },
    {
      "cell_type": "code",
      "metadata": {
        "id": "_vuxHqTFKeHJ",
        "colab": {
          "base_uri": "https://localhost:8080/",
          "height": 34
        },
        "outputId": "3b3866fa-630a-44c7-a7f3-aa5192fc493f"
      },
      "source": [
        "urls = ['https://raw.githubusercontent.com/okfn/openmilton/master/miltondata/texts/poems.txt']\n",
        "\n",
        "#Duplicating the list to make it larger\n",
        "for _ in range(0,3):\n",
        "  urls += urls\n",
        "\n",
        "print(len(urls))"
      ],
      "execution_count": null,
      "outputs": [
        {
          "output_type": "stream",
          "text": [
            "8\n"
          ],
          "name": "stdout"
        }
      ]
    },
    {
      "cell_type": "markdown",
      "metadata": {
        "id": "Dac8UYGt_Jda"
      },
      "source": [
        "Now let's test how long it takes to process the sentiment for each line of our poems dataset\n",
        "\n",
        "We can use TQDM to show us the progress of any for-loop operation"
      ]
    },
    {
      "cell_type": "code",
      "metadata": {
        "id": "nNT03tbV_Rqk",
        "colab": {
          "base_uri": "https://localhost:8080/",
          "height": 34
        },
        "outputId": "7616d809-ba7f-4880-d247-eb6d2d7fccaf"
      },
      "source": [
        "#Serial Processing\n",
        "scores = []\n",
        "\n",
        "for url in tqdm(urls, position=0 ): #position=0 forces the bars into the same line when printing\n",
        "    score += process_poems(url)\n"
      ],
      "execution_count": null,
      "outputs": [
        {
          "output_type": "stream",
          "text": [
            "100%|██████████| 8/8 [00:21<00:00,  2.78s/it]\n"
          ],
          "name": "stderr"
        }
      ]
    },
    {
      "cell_type": "code",
      "metadata": {
        "id": "Woel8UbhBuhs",
        "colab": {
          "base_uri": "https://localhost:8080/",
          "height": 34
        },
        "outputId": "76093165-6391-43fa-9b6d-12b6d9c4516f"
      },
      "source": [
        "scores = []\n",
        "\n",
        "for score in tqdm(pool.uimap(process_poems, urls), total=len(urls), position=0):\n",
        "  scores += score"
      ],
      "execution_count": null,
      "outputs": [
        {
          "output_type": "stream",
          "text": [
            "100%|██████████| 8/8 [00:16<00:00,  2.33s/it]\n"
          ],
          "name": "stderr"
        }
      ]
    }
  ]
}