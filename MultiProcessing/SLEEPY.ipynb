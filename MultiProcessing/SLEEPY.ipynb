{
  "cells": [
    {
      "attachments": {},
      "cell_type": "markdown",
      "metadata": {},
      "source": [
        "Notebook writen by Andelka Kovacevic, University of Belgrade"
      ]
    },
    {
      "cell_type": "code",
      "execution_count": 1,
      "metadata": {
        "id": "f_ioqlHmyN-3"
      },
      "outputs": [],
      "source": [
        "import numpy as np\n",
        "import time\n",
        "import multiprocessing"
      ]
    },
    {
      "cell_type": "code",
      "execution_count": null,
      "metadata": {
        "id": "1is6z_aWyaqt"
      },
      "outputs": [],
      "source": [
        "def sleepy_man():\n",
        "    print('Starting to sleep')\n",
        "    time.sleep(1)\n",
        "    print('Done sleeping')"
      ]
    },
    {
      "cell_type": "code",
      "execution_count": null,
      "metadata": {
        "colab": {
          "base_uri": "https://localhost:8080/"
        },
        "id": "BlUO9TOLyfns",
        "outputId": "86e4af92-7a76-474a-8d76-f6c4de42a034"
      },
      "outputs": [
        {
          "name": "stdout",
          "output_type": "stream",
          "text": [
            "Starting to sleep\n",
            "Done sleeping\n",
            "Starting to sleep\n",
            "Done sleeping\n",
            "Done in 2.0033 seconds\n"
          ]
        }
      ],
      "source": [
        "tic = time.time()\n",
        "sleepy_man()\n",
        "sleepy_man()\n",
        "toc = time.time()\n",
        "\n",
        "print('Done in {:.4f} seconds'.format(toc-tic))"
      ]
    },
    {
      "cell_type": "code",
      "execution_count": null,
      "metadata": {
        "colab": {
          "base_uri": "https://localhost:8080/"
        },
        "id": "vldQRf3TMn3L",
        "outputId": "4517522f-f610-459f-ca14-aa701f567a73"
      },
      "outputs": [
        {
          "name": "stdout",
          "output_type": "stream",
          "text": [
            "Starting to sleepDone in 0.0223 seconds\n",
            "\n",
            "Starting to sleep\n"
          ]
        }
      ],
      "source": [
        "def sleepy_man():\n",
        "    print('Starting to sleep')\n",
        "    time.sleep(1)\n",
        "    print('Done sleeping')\n",
        "\n",
        "tic = time.time()\n",
        "p1 =  multiprocessing.Process(target= sleepy_man)\n",
        "p2 =  multiprocessing.Process(target= sleepy_man)\n",
        "p1.start()\n",
        "p2.start()\n",
        "toc = time.time()\n",
        "\n",
        "print('Done in {:.4f} seconds'.format(toc-tic))"
      ]
    },
    {
      "cell_type": "code",
      "execution_count": null,
      "metadata": {
        "colab": {
          "base_uri": "https://localhost:8080/"
        },
        "id": "TVzRs3JQyeXl",
        "outputId": "7f55be43-5abc-4222-c9d3-a3c7df90458d"
      },
      "outputs": [
        {
          "name": "stdout",
          "output_type": "stream",
          "text": [
            "Starting to sleepStarting to sleep\n",
            "\n",
            "Done sleeping\n",
            "Done sleeping\n",
            "Done in 1.0458 seconds\n"
          ]
        }
      ],
      "source": [
        "tic = time.time()\n",
        "p1 =  multiprocessing.Process(target= sleepy_man)\n",
        "p2 =  multiprocessing.Process(target= sleepy_man)\n",
        "p1.start()\n",
        "p2.start()\n",
        "p1.join()\n",
        "p2.join()\n",
        "toc = time.time()\n",
        "\n",
        "print('Done in {:.4f} seconds'.format(toc-tic))"
      ]
    },
    {
      "cell_type": "code",
      "execution_count": null,
      "metadata": {
        "colab": {
          "base_uri": "https://localhost:8080/"
        },
        "id": "oRRM-fpnzWi7",
        "outputId": "03f997ff-6fba-42a5-b550-86e569d9208d"
      },
      "outputs": [
        {
          "name": "stdout",
          "output_type": "stream",
          "text": [
            "Starting to sleep\n",
            "Starting to sleep\n",
            "Starting to sleep\n",
            "Starting to sleep\n",
            "Starting to sleep\n",
            "Starting to sleep\n",
            "Starting to sleep\n",
            "Starting to sleepStarting to sleep\n",
            "\n",
            "Starting to sleep\n",
            "Done sleeping\n",
            "Done sleeping\n",
            "Done sleeping\n",
            "Done sleeping\n",
            "Done sleeping\n",
            "Done sleeping\n",
            "Done sleeping\n",
            "Done sleeping\n",
            "Done sleeping\n",
            "Done sleeping\n",
            "Done in 1.1668 seconds\n"
          ]
        }
      ],
      "source": [
        "tic = time.time()\n",
        "\n",
        "process_list = []\n",
        "for i in range(10):\n",
        "    p =  multiprocessing.Process(target= sleepy_man)\n",
        "    p.start()\n",
        "    process_list.append(p)\n",
        "\n",
        "for process in process_list:\n",
        "    process.join()\n",
        "\n",
        "toc = time.time()\n",
        "\n",
        "print('Done in {:.4f} seconds'.format(toc-tic))"
      ]
    },
    {
      "cell_type": "code",
      "execution_count": null,
      "metadata": {
        "colab": {
          "base_uri": "https://localhost:8080/"
        },
        "id": "GdGAFulPzlB9",
        "outputId": "ffe95781-11db-4123-bf51-19d940864f47"
      },
      "outputs": [
        {
          "name": "stdout",
          "output_type": "stream",
          "text": [
            "Starting to sleep\n",
            "Starting to sleep\n",
            "Starting to sleepStarting to sleep\n",
            "\n",
            "Starting to sleep\n",
            "Starting to sleepStarting to sleep\n",
            "Starting to sleep\n",
            "Starting to sleep\n",
            "Starting to sleep\n",
            "\n",
            "Done sleeping\n",
            "Done sleeping\n",
            "Done sleepingDone sleeping\n",
            "Done sleeping\n",
            "\n",
            "Done sleeping\n",
            "Done sleeping\n",
            "Done sleeping\n",
            "Done sleepingDone sleeping\n",
            "\n",
            "Done in 2.1675 seconds\n"
          ]
        }
      ],
      "source": [
        "def sleepy_man(sec):\n",
        "    print('Starting to sleep')\n",
        "    time.sleep(sec)\n",
        "    print('Done sleeping')\n",
        "\n",
        "import multiprocessing\n",
        "import time\n",
        "\n",
        "def sleepy_man(sec):\n",
        "    print('Starting to sleep')\n",
        "    time.sleep(sec)\n",
        "    print('Done sleeping')\n",
        "\n",
        "tic = time.time()\n",
        "\n",
        "process_list = []\n",
        "for i in range(10):\n",
        "    p =  multiprocessing.Process(target= sleepy_man, args = [2])\n",
        "    p.start()\n",
        "    process_list.append(p)\n",
        "\n",
        "for process in process_list:\n",
        "    process.join()\n",
        "\n",
        "toc = time.time()\n",
        "\n",
        "print('Done in {:.4f} seconds'.format(toc-tic))\n"
      ]
    },
    {
      "cell_type": "code",
      "execution_count": null,
      "metadata": {
        "colab": {
          "base_uri": "https://localhost:8080/"
        },
        "id": "Q_AyaZaWzz9h",
        "outputId": "2f69681e-aa74-42ea-fb5d-c31bf928d8c4"
      },
      "outputs": [
        {
          "name": "stdout",
          "output_type": "stream",
          "text": [
            "Starting to sleep for 4 secondsStarting to sleep for 3 secondsStarting to sleep for 5 secondsStarting to sleep for 2 secondsStarting to sleep for 1 seconds\n",
            "\n",
            "\n",
            "\n",
            "\n",
            "Done sleeping for 1 seconds\n",
            "Starting to sleep for 6 seconds\n",
            "Done sleeping for 2 seconds\n",
            "Starting to sleep for 7 seconds\n",
            "Done sleeping for 3 seconds\n",
            "Starting to sleep for 8 seconds\n",
            "Done sleeping for 4 seconds\n",
            "Starting to sleep for 9 seconds\n",
            "Done sleeping for 5 seconds\n",
            "Starting to sleep for 10 seconds\n",
            "Done sleeping for 6 seconds\n",
            "Done sleeping for 7 seconds\n",
            "Done sleeping for 8 seconds\n",
            "Done sleeping for 9 seconds\n",
            "Done sleeping for 10 seconds\n",
            "Done in 15.1410 seconds\n"
          ]
        }
      ],
      "source": [
        "def sleepy_man(sec):\n",
        "    print('Starting to sleep for {} seconds'.format(sec))\n",
        "    time.sleep(sec)\n",
        "    print('Done sleeping for {} seconds'.format(sec))\n",
        "\n",
        "tic = time.time()\n",
        "\n",
        "pool = multiprocessing.Pool(5)\n",
        "pool.map(sleepy_man, range(1, 11))\n",
        "pool.close()\n",
        "\n",
        "toc = time.time()\n",
        "\n",
        "print('Done in {:.4f} seconds'.format(toc-tic))"
      ]
    },
    {
      "cell_type": "code",
      "execution_count": null,
      "metadata": {
        "colab": {
          "base_uri": "https://localhost:8080/"
        },
        "id": "EOrLsLLA5DW-",
        "outputId": "11f43fe1-cfae-4d2f-a847-040a87c6b297"
      },
      "outputs": [
        {
          "name": "stdout",
          "output_type": "stream",
          "text": [
            "6 is a Perfect number\n",
            "28 is a Perfect number\n",
            "496 is a Perfect number\n",
            "8128 is a Perfect number\n",
            "Done in 367.5587 seconds\n"
          ]
        }
      ],
      "source": [
        "def is_perfect(n):\n",
        "    sum_factors = 0\n",
        "    for i in range(1, n):\n",
        "        if (n % i == 0):\n",
        "            sum_factors = sum_factors + i\n",
        "    if (sum_factors == n):\n",
        "        print('{} is a Perfect number'.format(n))\n",
        "\n",
        "tic = time.time()\n",
        "for n in range(1,100000):\n",
        "    is_perfect(n)\n",
        "toc = time.time()\n",
        "\n",
        "print('Done in {:.4f} seconds'.format(toc-tic))\n"
      ]
    },
    {
      "cell_type": "code",
      "execution_count": null,
      "metadata": {
        "colab": {
          "base_uri": "https://localhost:8080/"
        },
        "id": "fZyWAUrg5GzM",
        "outputId": "3fdce015-3003-4e1c-c0b6-25e524ad269a"
      },
      "outputs": [
        {
          "name": "stdout",
          "output_type": "stream",
          "text": [
            "6 is a Perfect number\n",
            "28 is a Perfect number\n",
            "496 is a Perfect number\n",
            "8128 is a Perfect number\n"
          ]
        }
      ],
      "source": [
        "def is_perfect(n):\n",
        "    sum_factors = 0\n",
        "    for i in range(1, n):\n",
        "        if(n % i == 0):\n",
        "            sum_factors = sum_factors + i\n",
        "    if (sum_factors == n):\n",
        "        print('{} is a Perfect number'.format(n))\n",
        "\n",
        "tic = time.time()\n",
        "\n",
        "processes = []\n",
        "for i in range(1,100000):\n",
        "    p = multiprocessing.Process(target=is_perfect, args=(i,))\n",
        "    processes.append(p)\n",
        "    p.start()\n",
        "\n",
        "for process in processes:\n",
        "    process.join()\n",
        "\n",
        "toc = time.time()\n",
        "print('Done in {:.4f} seconds'.format(toc-tic))"
      ]
    },
    {
      "cell_type": "code",
      "execution_count": null,
      "metadata": {
        "id": "z0Gf2jaHLZhP"
      },
      "outputs": [],
      "source": [
        "\n",
        "\n",
        "def is_perfect(n):\n",
        "    sum_factors = 0\n",
        "    for i in range(1, n):\n",
        "        if(n % i == 0):\n",
        "            sum_factors = sum_factors + i\n",
        "    if (sum_factors == n):\n",
        "        print('{} is a Perfect number'.format(n))\n",
        "\n",
        "tic = time.time()\n",
        "pool = multiprocessing.Pool()\n",
        "pool.map(is_perfect, range(1,100000))\n",
        "pool.close()\n",
        "toc = time.time()\n",
        "\n",
        "print('Done in {:.4f} seconds'.format(toc-tic))\n"
      ]
    }
  ],
  "metadata": {
    "colab": {
      "provenance": []
    },
    "kernelspec": {
      "display_name": "Python 3",
      "name": "python3"
    },
    "language_info": {
      "name": "python"
    }
  },
  "nbformat": 4,
  "nbformat_minor": 0
}
