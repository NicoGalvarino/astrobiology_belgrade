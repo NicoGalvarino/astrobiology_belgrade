{
  "nbformat": 4,
  "nbformat_minor": 0,
  "metadata": {
    "colab": {
      "name": "SpeedUpYourAlgo-Prallelization.ipynb",
      "version": "0.3.2",
      "provenance": [],
      "collapsed_sections": [
        "lggcAtkx4kMl",
        "T37JiXS0eh2R",
        "OI1TCDY0ej6a",
        "Ij7Z6h_HemCS",
        "UKhW3jTB4m6u",
        "ihLPzM0c40GO",
        "UeV5R2MIUl9I",
        "fZJAmma8Hly4",
        "THHQmgFGJuwj",
        "Jui24mDtNU5B",
        "v7435zkZpRyj",
        "ORmOJq4MvKib"
      ]
    },
    "kernelspec": {
      "name": "python3",
      "display_name": "Python 3"
    },
    "accelerator": "GPU"
  },
  "cells": [
    {
      "metadata": {
        "id": "lggcAtkx4kMl",
        "colab_type": "text"
      },
      "cell_type": "markdown",
      "source": [
        "# Initial"
      ]
    },
    {
      "metadata": {
        "id": "T37JiXS0eh2R",
        "colab_type": "text"
      },
      "cell_type": "markdown",
      "source": [
        "### Torch:"
      ]
    },
    {
      "metadata": {
        "id": "0NoRkDUApifl",
        "colab_type": "code",
        "outputId": "743a6eda-91be-4836-b1bd-1abdbeea0f2a",
        "colab": {
          "base_uri": "https://localhost:8080/",
          "height": 54
        }
      },
      "cell_type": "code",
      "source": [
        "!pip -q install http://download.pytorch.org/whl/cu92/torch-0.4.1-cp36-cp36m-linux_x86_64.whl\n",
        "!pip -q install torchvision"
      ],
      "execution_count": 0,
      "outputs": [
        {
          "output_type": "stream",
          "text": [
            "tcmalloc: large alloc 1073750016 bytes == 0x5903e000 @  0x7fe31c44d2a4 0x591a07 0x5b5d56 0x502e9a 0x506859 0x502209 0x502f3d 0x506859 0x504c28 0x502540 0x502f3d 0x506859 0x504c28 0x502540 0x502f3d 0x506859 0x504c28 0x502540 0x502f3d 0x507641 0x502209 0x502f3d 0x506859 0x504c28 0x502540 0x502f3d 0x507641 0x504c28 0x502540 0x502f3d 0x507641\n"
          ],
          "name": "stdout"
        }
      ]
    },
    {
      "metadata": {
        "id": "OI1TCDY0ej6a",
        "colab_type": "text"
      },
      "cell_type": "markdown",
      "source": [
        "### Dask:"
      ]
    },
    {
      "metadata": {
        "id": "-HK2yYT9MzTw",
        "colab_type": "code",
        "colab": {}
      },
      "cell_type": "code",
      "source": [
        "# https://stackoverflow.com/questions/49853303/how-to-install-pydot-graphviz-on-google-colab?rq=1\n",
        "!pip -q install graphviz \n",
        "!apt-get install graphviz -qq\n",
        "!pip -q install pydot"
      ],
      "execution_count": 0,
      "outputs": []
    },
    {
      "metadata": {
        "id": "k9n-MNinCtrf",
        "colab_type": "code",
        "colab": {}
      },
      "cell_type": "code",
      "source": [
        "!pip -q install \"dask[complete]\""
      ],
      "execution_count": 0,
      "outputs": []
    },
    {
      "metadata": {
        "id": "Ij7Z6h_HemCS",
        "colab_type": "text"
      },
      "cell_type": "markdown",
      "source": [
        "### Pycuda:"
      ]
    },
    {
      "metadata": {
        "id": "uYvXpk4pK_S-",
        "colab_type": "code",
        "colab": {}
      },
      "cell_type": "code",
      "source": [
        "# https://medium.com/@iphoenix179/running-cuda-c-c-in-jupyter-or-how-to-run-nvcc-in-google-colab-663d33f53772\n",
        "# https://developer.nvidia.com/cuda-90-download-archive?target_os=Linux&target_arch=x86_64&target_distro=Ubuntu&target_version=1704&target_type=deblocal\n",
        "!apt update -qq;\n",
        "!wget https://developer.nvidia.com/compute/cuda/9.0/Prod/local_installers/cuda-repo-ubuntu1704-9-0-local_9.0.176-1_amd64-deb\n",
        "!mv cuda-repo-ubuntu1704-9-0-local_9.0.176-1_amd64-deb cuda-repo-ubuntu1704-9-0-local_9.0.176-1_amd64.deb  \n",
        "!dpkg -i cuda-repo-ubuntu1704-9-0-local_9.0.176-1_amd64.deb\n",
        "!apt-key add /var/cuda-repo-9-0-local/7fa2af80.pub\n",
        "!apt-get update -qq;\n",
        "!apt-get install cuda gcc-5 g++-5 -y -qq;\n",
        "!ln -s /usr/bin/gcc-5 /usr/local/cuda/bin/gcc;\n",
        "!ln -s /usr/bin/g++-5 /usr/local/cuda/bin/g++;\n",
        "#!apt install cuda-9.2;"
      ],
      "execution_count": 0,
      "outputs": []
    },
    {
      "metadata": {
        "id": "4n5e4qm836nz",
        "colab_type": "code",
        "colab": {}
      },
      "cell_type": "code",
      "source": [
        "# http://alisonrowland.com/articles/installing-pycuda-via-pip\n",
        "# https://codeyarns.com/2015/07/31/pip-install-error-with-pycuda/\n",
        "import os\n",
        "PATH = os.environ[\"PATH\"]\n",
        "os.environ[\"PATH\"] = \"/usr/local/cuda-9.2/bin:/usr/local/cuda/bin:\" + PATH\n",
        "os.environ[\"LD_LIBRARY_PATH\"] = \"/usr/local/cuda/lib64\"\n",
        "os.environ[\"CUDA_ROOT\"] = \"/usr/local/cuda/\""
      ],
      "execution_count": 0,
      "outputs": []
    },
    {
      "metadata": {
        "id": "-mpXHVIOKOBJ",
        "colab_type": "code",
        "colab": {}
      },
      "cell_type": "code",
      "source": [
        "!pip -q install --ignore-installed pycuda"
      ],
      "execution_count": 0,
      "outputs": []
    },
    {
      "metadata": {
        "id": "UKhW3jTB4m6u",
        "colab_type": "text"
      },
      "cell_type": "markdown",
      "source": [
        "# Import"
      ]
    },
    {
      "metadata": {
        "id": "rSfGRxu64oLZ",
        "colab_type": "code",
        "colab": {}
      },
      "cell_type": "code",
      "source": [
        "import numpy as np\n",
        "import pandas as pd\n",
        "from multiprocessing import Pool, Process\n",
        "import torch"
      ],
      "execution_count": 0,
      "outputs": []
    },
    {
      "metadata": {
        "id": "7bEvBwSsoQfj",
        "colab_type": "code",
        "colab": {}
      },
      "cell_type": "code",
      "source": [
        "import matplotlib.pyplot as plt"
      ],
      "execution_count": 0,
      "outputs": []
    },
    {
      "metadata": {
        "id": "ihLPzM0c40GO",
        "colab_type": "text"
      },
      "cell_type": "markdown",
      "source": [
        "# 1. Pool and Process"
      ]
    },
    {
      "metadata": {
        "id": "HqeJRinL5qUO",
        "colab_type": "code",
        "outputId": "e2eaa0b1-19be-48ec-c8cd-31251781ce8d",
        "colab": {
          "base_uri": "https://localhost:8080/",
          "height": 34
        }
      },
      "cell_type": "code",
      "source": [
        "import multiprocessing as mp\n",
        "mp.cpu_count()"
      ],
      "execution_count": 0,
      "outputs": [
        {
          "output_type": "execute_result",
          "data": {
            "text/plain": [
              "2"
            ]
          },
          "metadata": {
            "tags": []
          },
          "execution_count": 6
        }
      ]
    },
    {
      "metadata": {
        "id": "VQO7_W7ftU3y",
        "colab_type": "text"
      },
      "cell_type": "markdown",
      "source": [
        "### Pool:"
      ]
    },
    {
      "metadata": {
        "id": "3AryNxH0KvyJ",
        "colab_type": "code",
        "colab": {}
      },
      "cell_type": "code",
      "source": [
        "def function(lst):\n",
        "  arr = np.zeros_like(lst)\n",
        "  for i in range(lst.shape[0]):\n",
        "    for j in range(lst.shape[1]):\n",
        "      arr[i][j] = lst[i][j] ** 2\n",
        "  return arr\n",
        "\n",
        "array = np.random.randint(1, 9, (2**10, 10000))\n",
        "data = np.array_split(array, 2)"
      ],
      "execution_count": 0,
      "outputs": []
    },
    {
      "metadata": {
        "id": "jEv7Wl9KG5Z0",
        "colab_type": "code",
        "outputId": "7aa99406-795c-44b5-9d0a-a962d08a4793",
        "colab": {
          "base_uri": "https://localhost:8080/",
          "height": 34
        }
      },
      "cell_type": "code",
      "source": [
        "data[0].shape"
      ],
      "execution_count": 0,
      "outputs": [
        {
          "output_type": "execute_result",
          "data": {
            "text/plain": [
              "(512, 10000)"
            ]
          },
          "metadata": {
            "tags": []
          },
          "execution_count": 66
        }
      ]
    },
    {
      "metadata": {
        "id": "qXAIPBpU4v2R",
        "colab_type": "code",
        "outputId": "8e136df1-9b1b-4474-9350-066b78426a7c",
        "colab": {
          "base_uri": "https://localhost:8080/",
          "height": 50
        }
      },
      "cell_type": "code",
      "source": [
        "%%time\n",
        "with Pool(2) as p:\n",
        "  res = p.map(function, data)\n",
        "  p.close()\n",
        "  p.join()"
      ],
      "execution_count": 0,
      "outputs": [
        {
          "output_type": "stream",
          "text": [
            "CPU times: user 115 ms, sys: 280 ms, total: 396 ms\n",
            "Wall time: 6.78 s\n"
          ],
          "name": "stdout"
        }
      ]
    },
    {
      "metadata": {
        "id": "FGvY7-IStXBk",
        "colab_type": "text"
      },
      "cell_type": "markdown",
      "source": [
        "### Process:"
      ]
    },
    {
      "metadata": {
        "id": "3byO0zREtWyC",
        "colab_type": "code",
        "outputId": "abe9f98a-4eed-4ca1-d7ca-dacb94aeb69d",
        "colab": {
          "base_uri": "https://localhost:8080/",
          "height": 50
        }
      },
      "cell_type": "code",
      "source": [
        "%%time\n",
        "processes = []\n",
        "for i in range(2):\n",
        "  p = Process(target=function, args=(data[i],))\n",
        "  processes.append(p)\n",
        "  p.start()\n",
        "  \n",
        "for p in processes: p.join()"
      ],
      "execution_count": 0,
      "outputs": [
        {
          "output_type": "stream",
          "text": [
            "CPU times: user 3.94 ms, sys: 74.6 ms, total: 78.5 ms\n",
            "Wall time: 8.02 s\n"
          ],
          "name": "stdout"
        }
      ]
    },
    {
      "metadata": {
        "id": "9TGZQjmltPFm",
        "colab_type": "text"
      },
      "cell_type": "markdown",
      "source": [
        "### Graphing:"
      ]
    },
    {
      "metadata": {
        "id": "CPY_CnGOm_Y5",
        "colab_type": "code",
        "colab": {}
      },
      "cell_type": "code",
      "source": [
        "def function(lst):\n",
        "  arr = np.zeros_like(lst)\n",
        "  for i in range(lst.shape[0]):\n",
        "      arr[i] = lst[i] ** 2\n",
        "  return arr"
      ],
      "execution_count": 0,
      "outputs": []
    },
    {
      "metadata": {
        "id": "41rY7dOwiWvq",
        "colab_type": "code",
        "colab": {}
      },
      "cell_type": "code",
      "source": [
        "import time\n",
        "\n",
        "def serial(n, start=0):\n",
        "  times = []\n",
        "  size = []\n",
        "  for i in range(start, n):\n",
        "    s = 10**(i+1)\n",
        "    size.append(s)\n",
        "    lst = np.random.randint(1, 7, (s,))\n",
        "    st = time.time()\n",
        "    res = function(lst)\n",
        "    en = time.time()\n",
        "    times.append(en-st)\n",
        "  return times, size\n",
        "\n",
        "def parallel(n, sp, start=0):\n",
        "  times = []\n",
        "  size = []\n",
        "  for i in range(start, n):\n",
        "    s = 10**(i+1)\n",
        "    size.append(s)\n",
        "    lst = np.random.randint(1, 7, (s,))\n",
        "    splitted = np.split(lst, sp)\n",
        "    with Pool(sp) as p:\n",
        "      st = time.time()\n",
        "      res = p.map(function, splitted)\n",
        "      en = time.time()\n",
        "    times.append(en-st)\n",
        "  return times, size\n",
        "\n",
        "def parallel2(n, sp, start=0):\n",
        "  \"\"\" \n",
        "    sp: Number of splits of array and number of processes\n",
        "    start: Change it so that split function is able to split\n",
        "  \"\"\"\n",
        "  times = []\n",
        "  size = []\n",
        "  for i in range(start, n):\n",
        "    s = 10**(i+1)\n",
        "    size.append(s)\n",
        "    lst = np.random.randint(1, 7, (s,))\n",
        "    splitted = np.split(lst, sp)\n",
        "    processes = []\n",
        "    st = time.time()\n",
        "    for j in range(sp):\n",
        "      p = Process(target=function, args=(splitted[j],))\n",
        "      processes.append(p)\n",
        "    for p in processes: p.start()\n",
        "    for p in processes: p.join()\n",
        "    en = time.time()\n",
        "    times.append(en-st)\n",
        "  return times, size"
      ],
      "execution_count": 0,
      "outputs": []
    },
    {
      "metadata": {
        "id": "xhIPLL_jjrzC",
        "colab_type": "code",
        "outputId": "07806d10-ff68-4d9b-f46f-5e3a8042f708",
        "colab": {
          "base_uri": "https://localhost:8080/",
          "height": 50
        }
      },
      "cell_type": "code",
      "source": [
        "%%time\n",
        "t1, s1 = serial(6)"
      ],
      "execution_count": 0,
      "outputs": [
        {
          "output_type": "stream",
          "text": [
            "CPU times: user 409 ms, sys: 17.5 ms, total: 427 ms\n",
            "Wall time: 431 ms\n"
          ],
          "name": "stdout"
        }
      ]
    },
    {
      "metadata": {
        "id": "hPhVPrwtyPS_",
        "colab_type": "code",
        "outputId": "21bb9cbe-0ce0-4d95-8fea-bd1f0f1ae15a",
        "colab": {
          "base_uri": "https://localhost:8080/",
          "height": 50
        }
      },
      "cell_type": "code",
      "source": [
        "%%time\n",
        "t2, s2 = parallel(6, 2)"
      ],
      "execution_count": 0,
      "outputs": [
        {
          "output_type": "stream",
          "text": [
            "CPU times: user 60 ms, sys: 618 ms, total: 678 ms\n",
            "Wall time: 1.91 s\n"
          ],
          "name": "stdout"
        }
      ]
    },
    {
      "metadata": {
        "id": "xDbYdL8tyROL",
        "colab_type": "code",
        "outputId": "766b202c-6ce7-4423-aaf0-6789402a96a4",
        "colab": {
          "base_uri": "https://localhost:8080/",
          "height": 50
        }
      },
      "cell_type": "code",
      "source": [
        "%%time\n",
        "t3, s3 = parallel2(6, 2)"
      ],
      "execution_count": 0,
      "outputs": [
        {
          "output_type": "stream",
          "text": [
            "CPU times: user 32.7 ms, sys: 492 ms, total: 524 ms\n",
            "Wall time: 1.01 s\n"
          ],
          "name": "stdout"
        }
      ]
    },
    {
      "metadata": {
        "id": "Hy2kqrLGkEDD",
        "colab_type": "code",
        "outputId": "379bbe2b-08cb-49da-b55d-d128cedd5c7e",
        "colab": {
          "base_uri": "https://localhost:8080/",
          "height": 361
        }
      },
      "cell_type": "code",
      "source": [
        "plt.plot(s1, t1, \"o-\", label=\"Serial\")\n",
        "plt.plot(s2, t2, \"o-\", label=\"Pool\")\n",
        "plt.plot(s3, t3, \"o-\", label=\"Process\")\n",
        "plt.legend()\n",
        "plt.xlabel(\"Number of elements:\")\n",
        "plt.ylabel(\"Time (sec):\")\n",
        "plt.show()\n",
        "# Our task is not that heavy, results here may vary unexpectedly."
      ],
      "execution_count": 0,
      "outputs": [
        {
          "output_type": "display_data",
          "data": {
            "image/png": "[encoded data removed]",
            "text/plain": [
              "<matplotlib.figure.Figure at 0x7f739a6e25f8>"
            ]
          },
          "metadata": {
            "tags": []
          }
        }
      ]
    },
    {
      "metadata": {
        "id": "UeV5R2MIUl9I",
        "colab_type": "text"
      },
      "cell_type": "markdown",
      "source": [
        "# 2. Threading"
      ]
    },
    {
      "metadata": {
        "id": "DU9mgOzMSD2a",
        "colab_type": "code",
        "colab": {}
      },
      "cell_type": "code",
      "source": [
        "from threading import Thread as trd\n",
        "import queue\n",
        "q = queue.Queue()"
      ],
      "execution_count": 0,
      "outputs": []
    },
    {
      "metadata": {
        "id": "HoJNA8wBYR5j",
        "colab_type": "code",
        "colab": {}
      },
      "cell_type": "code",
      "source": [
        "def function(lst):\n",
        "  arr = np.zeros_like(lst)\n",
        "  for i in range(lst.shape[0]):\n",
        "    for j in range(lst.shape[0]):\n",
        "      arr[i][j] = lst[i][j] * lst[i][j]\n",
        "  return arr\n",
        "\n",
        "array = np.random.randint(1, 10, (1000, 10000))\n",
        "data = np.array_split(array, 2)"
      ],
      "execution_count": 0,
      "outputs": []
    },
    {
      "metadata": {
        "id": "iR6_Vx8yB1hB",
        "colab_type": "code",
        "outputId": "c84844cc-95c2-4835-9174-1db62309036e",
        "colab": {
          "base_uri": "https://localhost:8080/",
          "height": 50
        }
      },
      "cell_type": "code",
      "source": [
        "%%time\n",
        "res = function(array)"
      ],
      "execution_count": 0,
      "outputs": [
        {
          "output_type": "stream",
          "text": [
            "CPU times: user 934 ms, sys: 16.4 ms, total: 950 ms\n",
            "Wall time: 954 ms\n"
          ],
          "name": "stdout"
        }
      ]
    },
    {
      "metadata": {
        "id": "rgze9tLExmcB",
        "colab_type": "code",
        "outputId": "be30edd7-c227-44c3-be4a-47e37b3f3d89",
        "colab": {
          "base_uri": "https://localhost:8080/",
          "height": 50
        }
      },
      "cell_type": "code",
      "source": [
        "%%time\n",
        "# By using Queue this way you can get result of function without\n",
        "# modifying your function.\n",
        "t1 = trd(target=lambda q, args1: q.put(function(args1)), args=(q, data[0]))\n",
        "t2 = trd(target=lambda q, args1: q.put(function(args1)), args=(q, data[1]))\n",
        "\n",
        "t1.start()\n",
        "t2.start()\n",
        "\n",
        "t1.join()\n",
        "t2.join()\n",
        "\n",
        "res1 = q.get()\n",
        "res2 = q.get()"
      ],
      "execution_count": 0,
      "outputs": [
        {
          "output_type": "stream",
          "text": [
            "CPU times: user 489 ms, sys: 22.4 ms, total: 511 ms\n",
            "Wall time: 496 ms\n"
          ],
          "name": "stdout"
        }
      ]
    },
    {
      "metadata": {
        "id": "l4JoToF23vMq",
        "colab_type": "code",
        "outputId": "d3ab3029-3a16-4bda-d0e5-21de50da1641",
        "colab": {
          "base_uri": "https://localhost:8080/",
          "height": 34
        }
      },
      "cell_type": "code",
      "source": [
        "q.empty()"
      ],
      "execution_count": 0,
      "outputs": [
        {
          "output_type": "execute_result",
          "data": {
            "text/plain": [
              "True"
            ]
          },
          "metadata": {
            "tags": []
          },
          "execution_count": 173
        }
      ]
    },
    {
      "metadata": {
        "id": "fZJAmma8Hly4",
        "colab_type": "text"
      },
      "cell_type": "markdown",
      "source": [
        "# 3. Dask"
      ]
    },
    {
      "metadata": {
        "id": "BKPgNyg1Hovh",
        "colab_type": "code",
        "colab": {}
      },
      "cell_type": "code",
      "source": [
        "from dask import delayed as delay\n",
        "\n",
        "@delay\n",
        "def add(x, y): return x+y\n",
        "@delay\n",
        "def sq(x): return x**2\n",
        "@delay\n",
        "def sum(x): \n",
        "  sum=0\n",
        "  for i in range(len(x)): sum+=x[i]\n",
        "  return sum"
      ],
      "execution_count": 0,
      "outputs": []
    },
    {
      "metadata": {
        "id": "i5zzu_Z3HoS9",
        "colab_type": "code",
        "colab": {}
      },
      "cell_type": "code",
      "source": [
        "inputs = list(np.arange(1, 11))\n",
        "\n",
        "res = [sq(n) for n in inputs]\n",
        "res = [add(n, m) for n, m in zip(res[::2], res[1::2])]\n",
        "res = sum(res)"
      ],
      "execution_count": 0,
      "outputs": []
    },
    {
      "metadata": {
        "id": "O84kIMvIGnMA",
        "colab_type": "code",
        "outputId": "de6d650b-6b0a-47cb-b7e1-041100499b6a",
        "colab": {
          "base_uri": "https://localhost:8080/",
          "height": 599
        }
      },
      "cell_type": "code",
      "source": [
        "res.visualize()"
      ],
      "execution_count": 0,
      "outputs": [
        {
          "output_type": "execute_result",
          "data": {
            "image/png": "[encoded data removed]",
            "text/plain": [
              "<IPython.core.display.Image object>"
            ]
          },
          "metadata": {
            "tags": []
          },
          "execution_count": 7
        }
      ]
    },
    {
      "metadata": {
        "id": "gMZ5FXaKNMVJ",
        "colab_type": "code",
        "outputId": "e9b41afb-29d1-4830-b6d9-9f8738b34f92",
        "colab": {
          "base_uri": "https://localhost:8080/",
          "height": 34
        }
      },
      "cell_type": "code",
      "source": [
        "res.compute()"
      ],
      "execution_count": 0,
      "outputs": [
        {
          "output_type": "execute_result",
          "data": {
            "text/plain": [
              "385"
            ]
          },
          "metadata": {
            "tags": []
          },
          "execution_count": 8
        }
      ]
    },
    {
      "metadata": {
        "id": "THHQmgFGJuwj",
        "colab_type": "text"
      },
      "cell_type": "markdown",
      "source": [
        "# 4. torch.multiprocessing"
      ]
    },
    {
      "metadata": {
        "id": "JV33jJ274CEr",
        "colab_type": "code",
        "colab": {}
      },
      "cell_type": "code",
      "source": [
        "import torch.multiprocessing as mp_\n",
        "mp = mp_.get_context('spawn')"
      ],
      "execution_count": 0,
      "outputs": []
    },
    {
      "metadata": {
        "id": "qdQ3-4RDpXVp",
        "colab_type": "code",
        "colab": {}
      },
      "cell_type": "code",
      "source": [
        "a = torch.zeros((1000, 1000))\n",
        "b = torch.zeros_like(a).cuda()"
      ],
      "execution_count": 0,
      "outputs": []
    },
    {
      "metadata": {
        "id": "a51bUqYLM00r",
        "colab_type": "code",
        "colab": {}
      },
      "cell_type": "code",
      "source": [
        "def func(arr):\n",
        "  for i in range(arr.shape[0]):\n",
        "    for j in range(arr.shape[1]):\n",
        "      arr[i][j] += (i+j)\n",
        "      arr[i][j] *= arr[i][j]\n",
        "  return arr"
      ],
      "execution_count": 0,
      "outputs": []
    },
    {
      "metadata": {
        "id": "uetR__ZHVvRy",
        "colab_type": "code",
        "outputId": "4bd112df-4595-40ed-d624-b6d77054c9bc",
        "colab": {
          "base_uri": "https://localhost:8080/",
          "height": 50
        }
      },
      "cell_type": "code",
      "source": [
        "%%time\n",
        "res = func(a)"
      ],
      "execution_count": 0,
      "outputs": [
        {
          "output_type": "stream",
          "text": [
            "CPU times: user 22 s, sys: 1.79 s, total: 23.8 s\n",
            "Wall time: 23.8 s\n"
          ],
          "name": "stdout"
        }
      ]
    },
    {
      "metadata": {
        "id": "Eq7Q1ionpeuM",
        "colab_type": "code",
        "outputId": "48d3b1c3-797d-42e4-9b08-17a1158ff1db",
        "colab": {
          "base_uri": "https://localhost:8080/",
          "height": 50
        }
      },
      "cell_type": "code",
      "source": [
        "%%time\n",
        "res = func(b)"
      ],
      "execution_count": 0,
      "outputs": [
        {
          "output_type": "stream",
          "text": [
            "CPU times: user 2min 56s, sys: 54.9 s, total: 3min 51s\n",
            "Wall time: 3min 51s\n"
          ],
          "name": "stdout"
        }
      ]
    },
    {
      "metadata": {
        "id": "Jui24mDtNU5B",
        "colab_type": "text"
      },
      "cell_type": "markdown",
      "source": [
        "### Training Model using multiple processes:"
      ]
    },
    {
      "metadata": {
        "id": "_Ep4CbC9NTkr",
        "colab_type": "code",
        "colab": {}
      },
      "cell_type": "code",
      "source": [
        "import torch.multiprocessing as mp_\n",
        "mp = mp_.get_context('spawn')\n",
        "import torch.nn as nn"
      ],
      "execution_count": 0,
      "outputs": []
    },
    {
      "metadata": {
        "id": "bBrMPv2YPDDX",
        "colab_type": "code",
        "colab": {}
      },
      "cell_type": "code",
      "source": [
        "from sklearn.datasets import make_classification\n",
        "from torch.utils.data import DataLoader, TensorDataset\n",
        "X, y = make_classification(n_samples=10000, )\n",
        "\n",
        "dataset = TensorDataset(torch.FloatTensor(X), torch.DoubleTensor(y))\n",
        "data_loader = DataLoader(dataset, batch_size=8)"
      ],
      "execution_count": 0,
      "outputs": []
    },
    {
      "metadata": {
        "id": "z00bFYOMNsWL",
        "colab_type": "code",
        "outputId": "8dca63bc-7db5-418a-d55e-52467b49006e",
        "colab": {
          "base_uri": "https://localhost:8080/",
          "height": 185
        }
      },
      "cell_type": "code",
      "source": [
        "n_in = 20; n_out = 1        \n",
        "        \n",
        "model = nn.Sequential(nn.Linear(n_in, 15),\n",
        "                      nn.ReLU(),\n",
        "                      nn.Linear(15, 10),\n",
        "                      nn.ReLU(),\n",
        "                      nn.Linear(10, 5),\n",
        "                      nn.ReLU(),\n",
        "                      nn.Linear(5, n_out),\n",
        "                      nn.Sigmoid())\n",
        "\n",
        "model.share_memory() # Required for 'fork' method to work"
      ],
      "execution_count": 0,
      "outputs": [
        {
          "output_type": "execute_result",
          "data": {
            "text/plain": [
              "Sequential(\n",
              "  (0): Linear(in_features=20, out_features=15, bias=True)\n",
              "  (1): ReLU()\n",
              "  (2): Linear(in_features=15, out_features=10, bias=True)\n",
              "  (3): ReLU()\n",
              "  (4): Linear(in_features=10, out_features=5, bias=True)\n",
              "  (5): ReLU()\n",
              "  (6): Linear(in_features=5, out_features=1, bias=True)\n",
              "  (7): Sigmoid()\n",
              ")"
            ]
          },
          "metadata": {
            "tags": []
          },
          "execution_count": 176
        }
      ]
    },
    {
      "metadata": {
        "id": "D0jUB8wJFJXq",
        "colab_type": "code",
        "colab": {}
      },
      "cell_type": "code",
      "source": [
        "def train(model):\n",
        "    for data, labels in data_loader:\n",
        "        optimizer.zero_grad()\n",
        "        loss_fn(model(data), labels).backward()\n",
        "        optimizer.step()  # This will update the shared parameters"
      ],
      "execution_count": 0,
      "outputs": []
    },
    {
      "metadata": {
        "id": "KcR9XR7fOLFJ",
        "colab_type": "code",
        "colab": {}
      },
      "cell_type": "code",
      "source": [
        "optimizer = torch.optim.SGD(model.parameters(), lr=0.1, momentum=0.9, nesterov=True)\n",
        "loss_fun = torch.nn.BCELoss()"
      ],
      "execution_count": 0,
      "outputs": []
    },
    {
      "metadata": {
        "id": "6SlQx-zCN92f",
        "colab_type": "code",
        "colab": {}
      },
      "cell_type": "code",
      "source": [
        "processes = []\n",
        "for i in range(4): # No. of processes\n",
        "    p = mp.Process(target=train, args=(model,))\n",
        "    p.start()\n",
        "    processes.append(p)\n",
        "for p in processes: p.join()"
      ],
      "execution_count": 0,
      "outputs": []
    },
    {
      "metadata": {
        "id": "l2Kmb16sCehz",
        "colab_type": "code",
        "outputId": "318f7681-306f-4ff0-cc9f-3c8f6a06b54e",
        "colab": {
          "base_uri": "https://localhost:8080/",
          "height": 34
        }
      },
      "cell_type": "code",
      "source": [
        "sum=0\n",
        "for data, labels in data_loader:\n",
        "  with torch.no_grad():\n",
        "    res = model(data)\n",
        "    res[res>=0.7] = 1\n",
        "    res[res<0.7] = 0\n",
        "    sum += (res.numpy()!=labels.float().numpy()).diagonal().sum()\n",
        "\n",
        "    \n",
        "sum/10000"
      ],
      "execution_count": 0,
      "outputs": [
        {
          "output_type": "execute_result",
          "data": {
            "text/plain": [
              "0.4994"
            ]
          },
          "metadata": {
            "tags": []
          },
          "execution_count": 175
        }
      ]
    },
    {
      "metadata": {
        "id": "v7435zkZpRyj",
        "colab_type": "text"
      },
      "cell_type": "markdown",
      "source": [
        "# 5. Pycuda (Optional)"
      ]
    },
    {
      "metadata": {
        "id": "SvcFFniYahLl",
        "colab_type": "code",
        "colab": {}
      },
      "cell_type": "code",
      "source": [
        "import pycuda.driver as cuda\n",
        "import pycuda.autoinit\n",
        "from pycuda.compiler import SourceModule"
      ],
      "execution_count": 0,
      "outputs": []
    },
    {
      "metadata": {
        "id": "EAMWyy3xyT72",
        "colab_type": "code",
        "colab": {}
      },
      "cell_type": "code",
      "source": [
        "import numpy\n",
        "a = numpy.random.randint(1, 9, (10000, 10000))\n",
        "a = a.astype(numpy.float32) # Most nVidia devices support single precision"
      ],
      "execution_count": 0,
      "outputs": []
    },
    {
      "metadata": {
        "id": "YuMJGXOTzDtn",
        "colab_type": "code",
        "colab": {}
      },
      "cell_type": "code",
      "source": [
        "# The main drawback of Pycuda is that you will have to write C code\n",
        "# to perform any task and pass it to SourceModule...\n",
        "\n",
        "mod = SourceModule(\"\"\"\n",
        "  __global__ void double(float *a)\n",
        "  {\n",
        "    int idx = threadIdx.x + threadIdx.y*blockDim.x;\n",
        "    a[idx] *= 2;\n",
        "  }\n",
        "  \"\"\")\n",
        "\n",
        "# As we saw in Numba post, you have to know which thread we are in to compute index(s) to operate on.\n",
        "# Here we get that from threadId."
      ],
      "execution_count": 0,
      "outputs": []
    },
    {
      "metadata": {
        "id": "XYVDamqZ10gu",
        "colab_type": "code",
        "colab": {}
      },
      "cell_type": "code",
      "source": [
        "# Get reference to function and initialize it, passing array and block size (4x4).\n",
        "func = mod.get_function(\"double\")"
      ],
      "execution_count": 0,
      "outputs": []
    },
    {
      "metadata": {
        "id": "HqXL4t-V2Ah4",
        "colab_type": "code",
        "colab": {}
      },
      "cell_type": "code",
      "source": [
        "## a_gpu = cuda.mem_alloc(a.nbytes) # Allocate memory on GPU\n",
        "## cuda.memcpy_htod(a_gpu, a) # Send array to GPU. Now your array is within variable a_gpu\n",
        "### a_gpu = cuda.to_device(a)\n",
        "### func(a_gpu, block=(4, 4, 1))\n",
        "### a_doubled = numpy.empty_like(a) # Copy array from gpu to cpu\n",
        "### cuda.memcpy_dtoh(a_doubled, a_gpu)\n",
        "### a_doubled[0][0:10], a[0][0:10]"
      ],
      "execution_count": 0,
      "outputs": []
    },
    {
      "metadata": {
        "id": "AaNr4gON2Tuh",
        "colab_type": "code",
        "colab": {}
      },
      "cell_type": "code",
      "source": [
        "# We can also simply use cuda.InOut which sends array to GPU\n",
        "# and then retrives back again:\n",
        "func(cuda.InOut(a), block=(4, 4, 1)) # block takes Block size which can be 3D. Block size gives us number of threads in Block. (No. of threads should be <= 512)\n",
        "a"
      ],
      "execution_count": 0,
      "outputs": []
    },
    {
      "metadata": {
        "id": "jG7mqYikv-0c",
        "colab_type": "code",
        "colab": {}
      },
      "cell_type": "code",
      "source": [
        "# Whereas a grid is 2D and can have max of 1000's of blocks. As before its dimensions give number of blocks. "
      ],
      "execution_count": 0,
      "outputs": []
    },
    {
      "metadata": {
        "id": "ORmOJq4MvKib",
        "colab_type": "text"
      },
      "cell_type": "markdown",
      "source": [
        "#### Examples:\n",
        "\n",
        "Image: https://raw.githubusercontent.com/andreajeka/CUDAThreadIndexing/master/images/1dgrid3dblock.png\n",
        "\n",
        "\n",
        "As shown in image, if we use 1D grid and 3D blocks, that is how you can think of it. Each of the thread sub-blocks contain one thread. Structure like this makes indexing of threads in grid easier."
      ]
    },
    {
      "metadata": {
        "id": "sZbfoqjveSbV",
        "colab_type": "code",
        "outputId": "ff0ece66-1a00-4fd2-fc6c-68afc4dbfabd",
        "colab": {
          "base_uri": "https://localhost:8080/",
          "height": 84
        }
      },
      "cell_type": "code",
      "source": [
        "#\n",
        "# 1D grid and 1D block\n",
        "#\n",
        "\n",
        "temp = numpy.zeros((4000,))\n",
        "temp = temp.astype(numpy.float32)\n",
        "mod = SourceModule(\"\"\"\n",
        "  __global__ void cuda_func(float *a)\n",
        "  {\n",
        "    int idx = blockDim.x*blockIdx.x + threadIdx.x;  // Go to block + Go to thread\n",
        "    if(idx < 4000){\n",
        "       a[idx] = (float) threadIdx.x; // One thread operating on one index. There are total of (4127)//128 = 32 blocks, each having 128 threads. Total 4096 threads.\n",
        "    }\n",
        "  }\n",
        "  \"\"\")\n",
        "func = mod.get_function(\"cuda_func\")\n",
        "func(cuda.InOut(temp), grid=((4000+127)//128, 1), block=(128, 1, 1))\n",
        "temp[-33:]"
      ],
      "execution_count": 0,
      "outputs": [
        {
          "output_type": "execute_result",
          "data": {
            "text/plain": [
              "array([127.,   0.,   1.,   2.,   3.,   4.,   5.,   6.,   7.,   8.,   9.,\n",
              "        10.,  11.,  12.,  13.,  14.,  15.,  16.,  17.,  18.,  19.,  20.,\n",
              "        21.,  22.,  23.,  24.,  25.,  26.,  27.,  28.,  29.,  30.,  31.],\n",
              "      dtype=float32)"
            ]
          },
          "metadata": {
            "tags": []
          },
          "execution_count": 38
        }
      ]
    },
    {
      "metadata": {
        "id": "ZVvC9b6Njh2K",
        "colab_type": "code",
        "outputId": "c1b7e6f7-2046-46a3-ad0a-dc4d47542a0a",
        "colab": {
          "base_uri": "https://localhost:8080/",
          "height": 50
        }
      },
      "cell_type": "code",
      "source": [
        "#\n",
        "# 1D grid and 2D block\n",
        "#\n",
        "\n",
        "temp = numpy.zeros((4000,))\n",
        "temp2 = numpy.zeros((4000,))\n",
        "temp = temp.astype(numpy.float32)\n",
        "temp2 = temp2.astype(numpy.float32)\n",
        "mod = SourceModule(\"\"\"\n",
        "  __global__ void cuda_func(float *a, float *b)\n",
        "  {\n",
        "    int idx = blockDim.x*blockDim.y*blockIdx.x + blockDim.x* threadIdx.y + threadIdx.x;  // Go to block + Go to row to current thread + Go to thread\n",
        "    if(idx < 4000){\n",
        "       a[idx] = (float) threadIdx.x; // One thread operating on one index. There are total of (4063)//64 = 63 blocks, each having (8x8)=64 threads. Total 4032 threads.\n",
        "       b[idx] = (float) threadIdx.y;\n",
        "    }\n",
        "  }\n",
        "  \"\"\")\n",
        "func = mod.get_function(\"cuda_func\")\n",
        "func(cuda.InOut(temp), cuda.InOut(temp2), grid=((4000+63)//64, 1), block=(8, 8, 1))\n",
        "temp[-10:], temp2[-10:]"
      ],
      "execution_count": 0,
      "outputs": [
        {
          "output_type": "execute_result",
          "data": {
            "text/plain": [
              "(array([6., 7., 0., 1., 2., 3., 4., 5., 6., 7.], dtype=float32),\n",
              " array([2., 2., 3., 3., 3., 3., 3., 3., 3., 3.], dtype=float32))"
            ]
          },
          "metadata": {
            "tags": []
          },
          "execution_count": 54
        }
      ]
    },
    {
      "metadata": {
        "id": "fyUsLwBJoH4d",
        "colab_type": "code",
        "outputId": "30827c24-a3ff-44f7-c895-3313df44ae06",
        "colab": {
          "base_uri": "https://localhost:8080/",
          "height": 118
        }
      },
      "cell_type": "code",
      "source": [
        "#\n",
        "# 1D grid and 3D block\n",
        "#\n",
        "\n",
        "temp = numpy.zeros((4000,))\n",
        "temp = temp.astype(numpy.float32)\n",
        "temp2 = numpy.zeros((4000,))\n",
        "temp2 = temp2.astype(numpy.float32)\n",
        "temp3 = numpy.zeros((4000,))\n",
        "temp3 = temp3.astype(numpy.float32)\n",
        "mod = SourceModule(\"\"\"\n",
        "  __global__ void cuda_func(float *a, float *b, float *c)\n",
        "  {\n",
        "    int idx = blockDim.x*blockDim.y*blockDim.z*blockIdx.x +  // Go to block \n",
        "              blockDim.x*blockDim.y*threadIdx.z +            // Go to z sclice containing thread\n",
        "              blockDim.x*threadIdx.y +                       // In that slice go to row containing thread\n",
        "              threadIdx.x;                                   // Go to thread\n",
        "    if(idx < 4000){\n",
        "       a[idx] = (float) threadIdx.x; // One thread operating on one index. There are total of (4063)//64 = 63 blocks, each having (4x4x4)=64 threads. Total 4032 threads.\n",
        "       b[idx] = (float) threadIdx.y;\n",
        "       c[idx] = (float) threadIdx.z;\n",
        "    }\n",
        "  }\n",
        "  \"\"\")\n",
        "func = mod.get_function(\"cuda_func\")\n",
        "func(cuda.InOut(temp), cuda.InOut(temp2), cuda.InOut(temp3), grid=((4000+63)//64, 1), block=(4, 4, 4))\n",
        "temp[-17:], temp2[-17:], temp3[-17:] "
      ],
      "execution_count": 0,
      "outputs": [
        {
          "output_type": "execute_result",
          "data": {
            "text/plain": [
              "(array([3., 0., 1., 2., 3., 0., 1., 2., 3., 0., 1., 2., 3., 0., 1., 2., 3.],\n",
              "       dtype=float32),\n",
              " array([3., 0., 0., 0., 0., 1., 1., 1., 1., 2., 2., 2., 2., 3., 3., 3., 3.],\n",
              "       dtype=float32),\n",
              " array([0., 1., 1., 1., 1., 1., 1., 1., 1., 1., 1., 1., 1., 1., 1., 1., 1.],\n",
              "       dtype=float32))"
            ]
          },
          "metadata": {
            "tags": []
          },
          "execution_count": 56
        }
      ]
    },
    {
      "metadata": {
        "id": "BAqVLfRRh5nL",
        "colab_type": "code",
        "outputId": "734bdc99-9986-47fc-dc0c-713bae2c8e93",
        "colab": {
          "base_uri": "https://localhost:8080/",
          "height": 185
        }
      },
      "cell_type": "code",
      "source": [
        "#\n",
        "# 2D grid and 3D block\n",
        "#\n",
        "\n",
        "temp = numpy.zeros((4000,))\n",
        "temp = temp.astype(numpy.float32)\n",
        "temp2 = numpy.zeros((4000,))\n",
        "temp2 = temp2.astype(numpy.float32)\n",
        "temp3 = numpy.zeros((4000,))\n",
        "temp3 = temp3.astype(numpy.float32)\n",
        "temp4 = numpy.zeros((4000,))\n",
        "temp4 = temp4.astype(numpy.float32)\n",
        "temp5 = numpy.zeros((4000,))\n",
        "temp5 = temp5.astype(numpy.float32)\n",
        "mod = SourceModule(\"\"\"\n",
        "  __global__ void cuda_func(float *a, float *b, float *c, float *d, float *e)\n",
        "  {\n",
        "    int idx = gridDim.x*blockDim.x*blockDim.y*blockDim.z*blockIdx.y +      // Go to grid row containing block\n",
        "              blockDim.x*blockDim.y*blockDim.z*blockIdx.x +                // Go to block\n",
        "              blockDim.x*blockDim.y*threadIdx.z +                          // Go to slice of block containing thread\n",
        "              blockDim.x*threadIdx.y +                                     // In that slice go to row containing thread\n",
        "              threadIdx.x;                                                 // Go to thread\n",
        "    if(idx < 4000){\n",
        "       a[idx] = (float) threadIdx.x; // One thread operating on one index. There are total of (8*8) = 64 blocks, each having (4x4x4)=64 threads. Total 4096 threads.\n",
        "       b[idx] = (float) threadIdx.y;\n",
        "       c[idx] = (float) threadIdx.z;\n",
        "       d[idx] = (float) blockIdx.x;\n",
        "       e[idx] = (float) blockIdx.y;\n",
        "    }\n",
        "  }\n",
        "  \"\"\")\n",
        "func = mod.get_function(\"cuda_func\")\n",
        "func(cuda.InOut(temp), cuda.InOut(temp2), cuda.InOut(temp3), cuda.InOut(temp4), cuda.InOut(temp5), grid=(8, 8), block=(4, 4, 4))\n",
        "temp[-17:], temp2[-17:], temp3[-17:], temp4[-17:], temp5[-17:]"
      ],
      "execution_count": 0,
      "outputs": [
        {
          "output_type": "execute_result",
          "data": {
            "text/plain": [
              "(array([3., 0., 1., 2., 3., 0., 1., 2., 3., 0., 1., 2., 3., 0., 1., 2., 3.],\n",
              "       dtype=float32),\n",
              " array([3., 0., 0., 0., 0., 1., 1., 1., 1., 2., 2., 2., 2., 3., 3., 3., 3.],\n",
              "       dtype=float32),\n",
              " array([0., 1., 1., 1., 1., 1., 1., 1., 1., 1., 1., 1., 1., 1., 1., 1., 1.],\n",
              "       dtype=float32),\n",
              " array([6., 6., 6., 6., 6., 6., 6., 6., 6., 6., 6., 6., 6., 6., 6., 6., 6.],\n",
              "       dtype=float32),\n",
              " array([7., 7., 7., 7., 7., 7., 7., 7., 7., 7., 7., 7., 7., 7., 7., 7., 7.],\n",
              "       dtype=float32))"
            ]
          },
          "metadata": {
            "tags": []
          },
          "execution_count": 63
        }
      ]
    },
    {
      "metadata": {
        "id": "SmlbQLcq3VDy",
        "colab_type": "code",
        "outputId": "075eb450-fe7c-413d-db8f-6c16a483137f",
        "colab": {
          "base_uri": "https://localhost:8080/",
          "height": 50
        }
      },
      "cell_type": "code",
      "source": [
        "#\n",
        "# 1D grid and 1D block and only 1 thread\n",
        "#\n",
        "\n",
        "temp = numpy.zeros((4000,))\n",
        "temp = temp.astype(numpy.float32)\n",
        "mod = SourceModule(\"\"\"\n",
        "  __global__ void cuda_func(float *a)\n",
        "  {\n",
        "    printf(\"%d\", threadIdx.x);\n",
        "    for(int i=0; i<4000; i++){\n",
        "      a[i] = i;\n",
        "    }\n",
        "  }\n",
        "  \"\"\")\n",
        "func = mod.get_function(\"cuda_func\")\n",
        "func(cuda.InOut(temp), grid=(1, 1), block=(1, 1, 1))\n",
        "temp[-10:]"
      ],
      "execution_count": 0,
      "outputs": [
        {
          "output_type": "execute_result",
          "data": {
            "text/plain": [
              "array([3990., 3991., 3992., 3993., 3994., 3995., 3996., 3997., 3998.,\n",
              "       3999.], dtype=float32)"
            ]
          },
          "metadata": {
            "tags": []
          },
          "execution_count": 66
        }
      ]
    },
    {
      "metadata": {
        "id": "e9KBHlvd4Gk9",
        "colab_type": "code",
        "colab": {}
      },
      "cell_type": "code",
      "source": [
        "# So on a single thread you can operate on an subarray too. You will have to configure task accordingly."
      ],
      "execution_count": 0,
      "outputs": []
    }
  ]
}
